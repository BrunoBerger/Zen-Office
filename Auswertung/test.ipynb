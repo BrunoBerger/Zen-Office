{
 "cells": [
  {
   "cell_type": "code",
   "execution_count": 42,
   "metadata": {},
   "outputs": [
    {
     "name": "stdout",
     "output_type": "stream",
     "text": [
      "Case: 2 2023-04-25 17:09:10 Alter: 2 AR FeelingScale: Unzufrieden: 2\n",
      "Case: 3 2023-04-25 17:25:10 Alter:  AR FeelingScale: Unzufrieden: -9\n",
      "Case: 4 2023-04-25 17:25:31 Alter:  AR FeelingScale: Unzufrieden: -9\n"
     ]
    }
   ],
   "source": [
    "import csv\n",
    "from tkinter import filedialog\n",
    "\n",
    "import matplotlib.pyplot as plt\n",
    "\n",
    "\n",
    "# #bit clunky in a notebook\n",
    "# stdFilePath = \"data\"\n",
    "# selectedFile = filedialog.askopenfilename(initialdir=stdFilePath,\n",
    "#                                           title=\"Select file\",\n",
    "#                                           filetypes=((\"Only logs\", \"*.csv\"),\n",
    "#                                                      (\"all files\", \"*.*\")))\n",
    "# if selectedFile == \"\":\n",
    "#     exit(\"[ERR] Please select a file\")\n",
    "\n",
    "\n",
    "selectedFile = \"data/example.csv\"\n",
    "\n",
    "\n",
    "ages = []\n",
    "\n",
    "with open(selectedFile, \"r\") as f:\n",
    "    reader = csv.DictReader(f, delimiter=',')\n",
    "    # next(reader, None)  # skip a line\n",
    "    KeyToDesc = reader.__next__()\n",
    "    FullNameToKey = {v: k for k, v in KeyToDesc.items()}  # maybe usefull\n",
    "\n",
    "    # reader = csv.DictReader(f, fieldnames=names, delimiter=',')\n",
    "\n",
    "    for row in reader:\n",
    "        # print(row)\n",
    "        ages.append(row[\"DD01_01\"])\n",
    "        print(\"Case:\", row[\"CASE\"], row[\"STARTED\"], \"Alter:\",\n",
    "              row[\"DD01_01\"], KeyToDesc[\"SS01_01\"] + \":\", row[\"SS01_01\"])\n"
   ]
  },
  {
   "cell_type": "code",
   "execution_count": null,
   "metadata": {},
   "outputs": [],
   "source": [
    "plt.plot(ages)\n",
    "plt.ylabel(\"y\")\n",
    "plt.xlabel(\"x\")\n",
    "plt.show()"
   ]
  }
 ],
 "metadata": {
  "kernelspec": {
   "display_name": ".env",
   "language": "python",
   "name": "python3"
  },
  "language_info": {
   "codemirror_mode": {
    "name": "ipython",
    "version": 3
   },
   "file_extension": ".py",
   "mimetype": "text/x-python",
   "name": "python",
   "nbconvert_exporter": "python",
   "pygments_lexer": "ipython3",
   "version": "3.11.3"
  },
  "orig_nbformat": 4
 },
 "nbformat": 4,
 "nbformat_minor": 2
}
